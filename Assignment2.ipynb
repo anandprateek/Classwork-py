{
  "nbformat": 4,
  "nbformat_minor": 0,
  "metadata": {
    "colab": {
      "name": "Assignment2.ipynb",
      "provenance": [],
      "authorship_tag": "ABX9TyPo9VcT5FEyJT6VZFfskhlY",
      "include_colab_link": true
    },
    "kernelspec": {
      "name": "python3",
      "display_name": "Python 3"
    }
  },
  "cells": [
    {
      "cell_type": "markdown",
      "metadata": {
        "id": "view-in-github",
        "colab_type": "text"
      },
      "source": [
        "<a href=\"https://colab.research.google.com/github/anandprateek/Classwork-py/blob/master/Assignment2.ipynb\" target=\"_parent\"><img src=\"https://colab.research.google.com/assets/colab-badge.svg\" alt=\"Open In Colab\"/></a>"
      ]
    },
    {
      "cell_type": "code",
      "metadata": {
        "colab": {
          "base_uri": "https://localhost:8080/"
        },
        "id": "bW2xIIJLQRdH",
        "outputId": "f571b6b0-2e19-4050-f0a8-1fffefa16149"
      },
      "source": [
        "\"\"\"1.\tCreate a function showEmployee() in such a way that it should accept employee name, and it’s salary and display both, and if the salary is missing in function call it should\r\n",
        " show it as 9000\"\"\"\r\n",
        "\r\n",
        "def showEmployee(ename,sal=9000):\r\n",
        "    print(\"Employee Details:\")\r\n",
        "    print(\"Employee Name:\",ename)\r\n",
        "    print(\"Employee Salary:\",sal)\r\n",
        "showEmployee(\"Prateek\",15000)"
      ],
      "execution_count": 7,
      "outputs": [
        {
          "output_type": "stream",
          "text": [
            "Employee Details:\n",
            "Employee Name: Prateek\n",
            "Employee Salary: 15000\n"
          ],
          "name": "stdout"
        }
      ]
    },
    {
      "cell_type": "code",
      "metadata": {
        "colab": {
          "base_uri": "https://localhost:8080/"
        },
        "id": "DABTCU0vcY_w",
        "outputId": "c2f10a8a-db1b-4807-ea84-5ad459860c8a"
      },
      "source": [
        "\"\"\"2.\"\"\"\r\n",
        "\r\n",
        "add = lambda n : n+15\r\n",
        "print(add(5))\r\n",
        "mul = lambda x,y : x*y\r\n",
        "print(mul(2,3))"
      ],
      "execution_count": 48,
      "outputs": [
        {
          "output_type": "stream",
          "text": [
            "20\n",
            "6\n"
          ],
          "name": "stdout"
        }
      ]
    },
    {
      "cell_type": "code",
      "metadata": {
        "id": "VWKuGC56hvXN",
        "outputId": "57342cc1-6cfc-456e-b59d-598b5dea1f58",
        "colab": {
          "base_uri": "https://localhost:8080/"
        }
      },
      "source": [
        "\"\"\"3.\"\"\"\r\n",
        "\r\n",
        "lst=[\"a\",\"aa\",\"cc\",\"aca\",\"acdavca\",\"arfvr\"]\r\n",
        "for s in lst:\r\n",
        "  if(len(s)>2 and s[0]==s[len(s)-1]):\r\n",
        "    print(s)"
      ],
      "execution_count": 64,
      "outputs": [
        {
          "output_type": "stream",
          "text": [
            "aca\n",
            "acdavca\n"
          ],
          "name": "stdout"
        }
      ]
    },
    {
      "cell_type": "code",
      "metadata": {
        "id": "bKDHc_9JqmXs",
        "outputId": "a3aeeb16-3b5e-4a37-eaa3-d621525e1115",
        "colab": {
          "base_uri": "https://localhost:8080/"
        }
      },
      "source": [
        "\"\"\"4.\"\"\"\r\n",
        "\r\n",
        "def inttup(tup):\r\n",
        "    result = tuple((int(x[0]), int(x[1])) for x in tup)\r\n",
        "    return result\r\n",
        "tup =  (('333', '33'), ('1416', '55'))\r\n",
        "print(\"Original tuple values:\")\r\n",
        "print(tup)\r\n",
        "print(\"New tuple values:\")\r\n",
        "print(inttup(tup))"
      ],
      "execution_count": 2,
      "outputs": [
        {
          "output_type": "stream",
          "text": [
            "Original tuple values:\n",
            "(('333', '33'), ('1416', '55'))\n",
            "New tuple values:\n",
            "((333, 33), (1416, 55))\n"
          ],
          "name": "stdout"
        }
      ]
    },
    {
      "cell_type": "code",
      "metadata": {
        "id": "xSjuEdyz9tpf",
        "outputId": "a0c1e297-b07a-42bd-df22-f26dfee4bc40",
        "colab": {
          "base_uri": "https://localhost:8080/",
          "height": 212
        }
      },
      "source": [
        "\"\"\"5.\"\"\"\r\n",
        "\r\n",
        "sample=[{\"V\":\"S001\"},{\"V\": \"S002\"},{\"VI\": \"S001\"},{\"VI\": \"S005\"},{\"VII\":\"S005\"},{\"V\":\"S009\"},{\"VIII\":\"S007\"}]\r\n",
        "uni = [] \r\n",
        "key=\"\"\r\n",
        "for sub in sample:\r\n",
        "  uni.append(sub[key]) \r\n",
        "uni = list(set(uni)) "
      ],
      "execution_count": 20,
      "outputs": [
        {
          "output_type": "error",
          "ename": "KeyError",
          "evalue": "ignored",
          "traceback": [
            "\u001b[0;31m---------------------------------------------------------------------------\u001b[0m",
            "\u001b[0;31mKeyError\u001b[0m                                  Traceback (most recent call last)",
            "\u001b[0;32m<ipython-input-20-f4c49445e130>\u001b[0m in \u001b[0;36m<module>\u001b[0;34m()\u001b[0m\n\u001b[1;32m      5\u001b[0m \u001b[0mkey\u001b[0m\u001b[0;34m=\u001b[0m\u001b[0;34m\"\"\u001b[0m\u001b[0;34m\u001b[0m\u001b[0;34m\u001b[0m\u001b[0m\n\u001b[1;32m      6\u001b[0m \u001b[0;32mfor\u001b[0m \u001b[0msub\u001b[0m \u001b[0;32min\u001b[0m \u001b[0msample\u001b[0m\u001b[0;34m:\u001b[0m\u001b[0;34m\u001b[0m\u001b[0;34m\u001b[0m\u001b[0m\n\u001b[0;32m----> 7\u001b[0;31m   \u001b[0muni\u001b[0m\u001b[0;34m.\u001b[0m\u001b[0mappend\u001b[0m\u001b[0;34m(\u001b[0m\u001b[0msub\u001b[0m\u001b[0;34m[\u001b[0m\u001b[0mkey\u001b[0m\u001b[0;34m]\u001b[0m\u001b[0;34m)\u001b[0m\u001b[0;34m\u001b[0m\u001b[0;34m\u001b[0m\u001b[0m\n\u001b[0m\u001b[1;32m      8\u001b[0m \u001b[0muni\u001b[0m \u001b[0;34m=\u001b[0m \u001b[0mlist\u001b[0m\u001b[0;34m(\u001b[0m\u001b[0mset\u001b[0m\u001b[0;34m(\u001b[0m\u001b[0muni\u001b[0m\u001b[0;34m)\u001b[0m\u001b[0;34m)\u001b[0m\u001b[0;34m\u001b[0m\u001b[0;34m\u001b[0m\u001b[0m\n",
            "\u001b[0;31mKeyError\u001b[0m: ''"
          ]
        }
      ]
    }
  ]
}