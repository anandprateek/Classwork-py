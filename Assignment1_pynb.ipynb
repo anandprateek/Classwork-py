{
  "nbformat": 4,
  "nbformat_minor": 0,
  "metadata": {
    "colab": {
      "name": "Assignment1.pynb",
      "provenance": [],
      "authorship_tag": "ABX9TyO4gF0rDKrQvZz8Aj0JphjX",
      "include_colab_link": true
    },
    "kernelspec": {
      "name": "python3",
      "display_name": "Python 3"
    }
  },
  "cells": [
    {
      "cell_type": "markdown",
      "metadata": {
        "id": "view-in-github",
        "colab_type": "text"
      },
      "source": [
        "<a href=\"https://colab.research.google.com/github/anandprateek/Assignment-2/blob/master/Assignment1_pynb.ipynb\" target=\"_parent\"><img src=\"https://colab.research.google.com/assets/colab-badge.svg\" alt=\"Open In Colab\"/></a>"
      ]
    },
    {
      "cell_type": "code",
      "metadata": {
        "id": "F4APXrLY7cbI",
        "colab": {
          "base_uri": "https://localhost:8080/"
        },
        "outputId": "a859f995-c96a-4675-a388-801c946033cc"
      },
      "source": [
        "#1. Friend of three are going for the weight loss challenge. The winner will get exciting prizes from other two. \r\n",
        "print(\"Challenge day:\")\r\n",
        "f1=int(input(\"friend1-\"))\r\n",
        "f2=int(input(\"friend2-\"))\r\n",
        "f3=int(input(\"friend3-\"))\r\n",
        "print(\"one month later:\")\r\n",
        "f4=int(input(\"friend1-\"))\r\n",
        "f5=int(input(\"friend2-\"))\r\n",
        "f6=int(input(\"friend3-\"))\r\n",
        "friend1=int(f1+f4)\r\n",
        "friend2=int(f2+f5)\r\n",
        "friend3=int(f3+f6)\r\n",
        "if(friend1>friend2 and friend1>friend3):\r\n",
        "  print(\"Winner is: friend1\")\r\n",
        "elif(friend2>friend1 and friend2>friend3):\r\n",
        "  print(\"Winner is: friend2\")\r\n",
        "else:\r\n",
        "  print(\"Winner is: friend3\")"
      ],
      "execution_count": null,
      "outputs": [
        {
          "output_type": "stream",
          "text": [
            "Challenge day:\n",
            "friend1-63\n",
            "friend2-47\n",
            "friend3-39\n",
            "one month later:\n",
            "friend1-59\n",
            "friend2-44\n",
            "friend3-42\n",
            "Winner is: friend1\n"
          ],
          "name": "stdout"
        }
      ]
    },
    {
      "cell_type": "code",
      "metadata": {
        "colab": {
          "base_uri": "https://localhost:8080/"
        },
        "id": "H7Y_w9MnPnF9",
        "outputId": "a0fc8c74-fbaa-49e0-8e0f-a54119d8711a"
      },
      "source": [
        "#2. Using python programming, Find the electrical bill to be paid from the previous and current reading. Rule slab is given below. \r\n",
        "\r\n",
        "#Units 0-100 - Rs.0\r\n",
        "#Units 101-200 - Rs.1.00\r\n",
        "#Units 201-300 - Rs. 2.00\r\n",
        "#Units 301 - more - Rs. 3.00\r\n",
        "\r\n",
        "\r\n",
        "prev=int(input(\"Previous reading:\"))\r\n",
        "curr=int(input(\"Current reading:\"))\r\n",
        "net=curr-prev\r\n",
        "if(net>=0 and net<=100):\r\n",
        "  amt=net*0\r\n",
        "elif(net>=101 and net<=200):\r\n",
        "  amt=net*1\r\n",
        "elif(net>=201 and net<=300):\r\n",
        "  amt=net*2\r\n",
        "elif(net>=301 and net<=400):\r\n",
        "  amt=3\r\n",
        "print(\"Bill amount:\",amt)\r\n"
      ],
      "execution_count": null,
      "outputs": [
        {
          "output_type": "stream",
          "text": [
            "Previous reading:5897\n",
            "Current reading:6121\n",
            "Bill amount: 448\n"
          ],
          "name": "stdout"
        }
      ]
    },
    {
      "cell_type": "code",
      "metadata": {
        "id": "ztW1ZIB4M5g0",
        "colab": {
          "base_uri": "https://localhost:8080/"
        },
        "outputId": "e071beba-a4b3-4651-98e5-d0b9157f6a71"
      },
      "source": [
        "\"\"\"3. Management of a car company, planning to give incentives for their employee based on the year of experience. \r\n",
        "If the employee Service is 3 years then he will get Rs. 30,000 as incentives, if the employee Service is 2 years then he will get Rs. 20,000 as incentives and\r\n",
        "if the employee Service is 1 years then he will get Rs. 10,000 as incentives. \r\n",
        "The employee id consist of 5 digits, first two digit indicates the joining year and next three digit indicates roll number.\"\"\"\r\n",
        "\r\n",
        "inp=int(input(\"Employee Id: \"))\r\n",
        "year=int(inp/1000)\r\n",
        "if(year==20):\r\n",
        "  print(\"incentives: Rs. 10,000\")\r\n",
        "elif(year==21):\r\n",
        "  print(\"incentives: Rs. 20,000\")\r\n",
        "elif(year==22):\r\n",
        "  print(\"incentives: Rs. 30,000\")"
      ],
      "execution_count": null,
      "outputs": [
        {
          "output_type": "stream",
          "text": [
            "Employee Id: 20407\n",
            "incentives: Rs. 10,000\n"
          ],
          "name": "stdout"
        }
      ]
    },
    {
      "cell_type": "code",
      "metadata": {
        "colab": {
          "base_uri": "https://localhost:8080/"
        },
        "id": "vFwba6Gd6SEP",
        "outputId": "9a0c1e16-ae68-448a-9162-a59786147e14"
      },
      "source": [
        "\"\"\"4. . School of computing students are planning to design a smart health care wearable device to detect the mood of the user. \r\n",
        "In recent study says, if a person is very relax he will cover the walking distance of 1 kilometer by 15 min, if a person is hectic he will cover the walking distance of 1 kilometer \r\n",
        "by 9 min and if a person is normal he will cover the walking distance of 1 kilometer by 12 min. \r\n",
        "Based on the covering distance, the system is designed to detect the mood of the user.\"\"\"\r\n",
        "\r\n",
        "time=input(\"Average time taken to cover 1 km: \")\r\n",
        "first=time[0]\r\n",
        "second=time[1]\r\n",
        "if(first=='1'):\r\n",
        "    if(second=='5'):\r\n",
        "        print(\"relax\")\r\n",
        "    elif(second=='2'):\r\n",
        "        print(\"normal\")\r\n",
        "elif(first=='9'):\r\n",
        "    print(\"hectic\")\r\n",
        "else:\r\n",
        "    print(\"Undefined!\")"
      ],
      "execution_count": null,
      "outputs": [
        {
          "output_type": "stream",
          "text": [
            "Average time taken to cover 1 km: 9min and 30 sec\n",
            "hectic\n"
          ],
          "name": "stdout"
        }
      ]
    },
    {
      "cell_type": "code",
      "metadata": {
        "colab": {
          "base_uri": "https://localhost:8080/"
        },
        "id": "3oacMRJE4Dw_",
        "outputId": "3215c59c-3825-4952-d65f-026ee5c3794f"
      },
      "source": [
        "\"\"\"5. Examination was conducted for 100 students. There are totally 2 set of question papers (50 QP in each set). The time the proctor distributed the question papers, it is the \r\n",
        "usual routine that some students will choose the QP that covers their known question and the students indulge in exchanging the question paper mutually. To avoid this situation, \r\n",
        "proctor sets the simple rule like, all the even register number students will take set A QP and all the ODD register number students will take set B QP (Assuming Reg No ranges from \r\n",
        "RA2011003010001 - RA2011003010100)\"\"\"\r\n",
        "roll=input()\r\n",
        "num=int(roll[-1])\r\n",
        "last3=int(roll[-3:])\r\n",
        "if(last3>=1 and last3<=100):\r\n",
        "  if(num%2==0):\r\n",
        "    print(\"set A\")\r\n",
        "  else:\r\n",
        "    print(\"set B\")\r\n",
        "else:\r\n",
        "  print(\"Roll No. doesn't exist\")"
      ],
      "execution_count": null,
      "outputs": [
        {
          "output_type": "stream",
          "text": [
            "RA2011003010004\n",
            "set A\n"
          ],
          "name": "stdout"
        }
      ]
    }
  ]
}